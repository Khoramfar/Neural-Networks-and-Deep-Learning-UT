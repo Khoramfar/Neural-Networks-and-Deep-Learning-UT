{
  "nbformat": 4,
  "nbformat_minor": 0,
  "metadata": {
    "colab": {
      "provenance": []
    },
    "kernelspec": {
      "name": "python3",
      "display_name": "Python 3"
    },
    "language_info": {
      "name": "python"
    }
  },
  "cells": [
    {
      "cell_type": "markdown",
      "source": [
        "# In The Name of GOD\n",
        "\n",
        "## HW1 - Deep learning\n",
        "\n",
        "### Ali Khoramfar\n",
        "### MohammadMahdi Barghi"
      ],
      "metadata": {
        "id": "OJA5T7Nd9pdH"
      }
    },
    {
      "cell_type": "markdown",
      "source": [
        "# Q1"
      ],
      "metadata": {
        "id": "js7jK-iG6Go8"
      }
    },
    {
      "cell_type": "code",
      "source": [
        "import matplotlib.pyplot as plt\n",
        "import networkx as nx\n",
        "import numpy as np"
      ],
      "metadata": {
        "id": "8BiNrNDoCJuH"
      },
      "execution_count": 2,
      "outputs": []
    },
    {
      "cell_type": "code",
      "source": [
        "class MccullochPittsNeuron:\n",
        "    def __init__(self, weights, threshold):\n",
        "      self.weights = weights\n",
        "      self.threshold = threshold\n",
        "\n",
        "    def activate(self, inputs):\n",
        "      value_checker = 0\n",
        "\n",
        "      for i in range(len(self.weights)):\n",
        "        neuron_value = self.weights[i] * inputs[i]\n",
        "        value_checker += neuron_value\n",
        "\n",
        "      if value_checker >= self.threshold:\n",
        "        return 1\n",
        "      else:\n",
        "        return 0"
      ],
      "metadata": {
        "id": "MAfAgnpaTTGy"
      },
      "execution_count": 3,
      "outputs": []
    },
    {
      "cell_type": "code",
      "source": [
        "def xor(bits):\n",
        "  n1 = MccullochPittsNeuron([2,-1], 2)\n",
        "  n2 = MccullochPittsNeuron([-1,2], 2)\n",
        "  n3 = MccullochPittsNeuron([2,2], 2)\n",
        "\n",
        "  n1_out = n1.activate([bits[0],bits[1]])\n",
        "  n2_out = n2.activate([bits[0],bits[1]])\n",
        "  n3_out = n3.activate([n1_out,n2_out])\n",
        "\n",
        "\n",
        "  return n3_out"
      ],
      "metadata": {
        "id": "Ryud3DrfUAdl"
      },
      "execution_count": 4,
      "outputs": []
    },
    {
      "cell_type": "code",
      "source": [
        "def or_neuron (bits):\n",
        "  n1 = MccullochPittsNeuron([2,2], 2)\n",
        "  return n1.activate([bits[0],bits[1]])"
      ],
      "metadata": {
        "id": "bUtVUufKV-jw"
      },
      "execution_count": 5,
      "outputs": []
    },
    {
      "cell_type": "code",
      "source": [
        "print(xor([0,1]))\n",
        "print(xor([0,0]))\n",
        "print(xor([1,1]))\n",
        "print(xor([1,0]))"
      ],
      "metadata": {
        "colab": {
          "base_uri": "https://localhost:8080/"
        },
        "id": "_dXQ8Oi8VozI",
        "outputId": "09d5f995-cbf1-420b-e39b-e007c8014207"
      },
      "execution_count": 6,
      "outputs": [
        {
          "output_type": "stream",
          "name": "stdout",
          "text": [
            "1\n",
            "0\n",
            "0\n",
            "1\n"
          ]
        }
      ]
    },
    {
      "cell_type": "code",
      "source": [
        "print(or_neuron([1,1]))\n",
        "print(or_neuron([1,0]))\n",
        "print(or_neuron([0,1]))\n",
        "print(or_neuron([0,0]))"
      ],
      "metadata": {
        "colab": {
          "base_uri": "https://localhost:8080/"
        },
        "id": "0-_ApooLWX7B",
        "outputId": "d81bba2e-7718-4391-ae37-c1ba1a033175"
      },
      "execution_count": 7,
      "outputs": [
        {
          "output_type": "stream",
          "name": "stdout",
          "text": [
            "1\n",
            "1\n",
            "1\n",
            "0\n"
          ]
        }
      ]
    },
    {
      "cell_type": "code",
      "source": [
        "def twos_complement(input_bit):\n",
        "  out0 = input_bit[3]\n",
        "  out1 = xor([input_bit[3],input_bit[2]])\n",
        "  carry1 = or_neuron([input_bit[3],input_bit[2]])\n",
        "  out2 = xor([carry1,input_bit[1]])\n",
        "  carry2 = or_neuron([carry1,input_bit[1]])\n",
        "  out3 = xor([carry2,input_bit[0]])\n",
        "\n",
        "  return([out3,out2,out1,out0])"
      ],
      "metadata": {
        "id": "3FcP4-CZWnLp"
      },
      "execution_count": 8,
      "outputs": []
    },
    {
      "cell_type": "code",
      "source": [
        "print(f\"input: {[0, 0, 0, 0]} --> output: {twos_complement([0, 0, 0, 0])}\")\n",
        "print(f\"input: {[0, 1, 0, 0]} --> output: {twos_complement([0, 1, 0, 0])}\")\n",
        "print(f\"input: {[0, 0, 1, 0]} --> output: {twos_complement([0, 0, 1, 0])}\")\n",
        "print(f\"input: {[0, 1, 1, 0]} --> output: {twos_complement([0, 1, 1, 0])}\")\n",
        "print(f\"input: {[0, 0, 0, 1]} --> output: {twos_complement([0, 0, 0, 1])}\")\n",
        "print(f\"input: {[0, 1, 0, 1]} --> output: {twos_complement([0, 1, 0, 1])}\")\n",
        "print(f\"input: {[0, 0, 1, 1]} --> output: {twos_complement([0, 0, 1, 1])}\")\n",
        "print(f\"input: {[0, 1, 1, 1]} --> output: {twos_complement([0, 1, 1, 1])}\")\n",
        "print(f\"input: {[1, 0, 0, 0]} --> output: {twos_complement([1, 0, 0, 0])}\")\n",
        "print(f\"input: {[1, 1, 0, 0]} --> output: {twos_complement([1, 1, 0, 0])}\")\n",
        "print(f\"input: {[1, 0, 1, 0]} --> output: {twos_complement([1, 0, 1, 0])}\")\n",
        "print(f\"input: {[1, 1, 1, 0]} --> output: {twos_complement([1, 1, 1, 0])}\")\n",
        "print(f\"input: {[1, 0, 0, 1]} --> output: {twos_complement([1, 0, 0, 1])}\")\n",
        "print(f\"input: {[1, 1, 0, 1]} --> output: {twos_complement([1, 1, 0, 1])}\")\n",
        "print(f\"input: {[1, 0, 1, 1]} --> output: {twos_complement([1, 0, 1, 1])}\")\n",
        "print(f\"input: {[1, 1, 1, 1]} --> output: {twos_complement([1, 1, 1, 1])}\")"
      ],
      "metadata": {
        "colab": {
          "base_uri": "https://localhost:8080/"
        },
        "id": "iKCJeriDY1-c",
        "outputId": "6a915c6b-d63f-4468-b989-2e1e380e81e6"
      },
      "execution_count": 10,
      "outputs": [
        {
          "output_type": "stream",
          "name": "stdout",
          "text": [
            "input: [0, 0, 0, 0] --> output: [0, 0, 0, 0]\n",
            "input: [0, 1, 0, 0] --> output: [1, 1, 0, 0]\n",
            "input: [0, 0, 1, 0] --> output: [1, 1, 1, 0]\n",
            "input: [0, 1, 1, 0] --> output: [1, 0, 1, 0]\n",
            "input: [0, 0, 0, 1] --> output: [1, 1, 1, 1]\n",
            "input: [0, 1, 0, 1] --> output: [1, 0, 1, 1]\n",
            "input: [0, 0, 1, 1] --> output: [1, 1, 0, 1]\n",
            "input: [0, 1, 1, 1] --> output: [1, 0, 0, 1]\n",
            "input: [1, 0, 0, 0] --> output: [1, 0, 0, 0]\n",
            "input: [1, 1, 0, 0] --> output: [0, 1, 0, 0]\n",
            "input: [1, 0, 1, 0] --> output: [0, 1, 1, 0]\n",
            "input: [1, 1, 1, 0] --> output: [0, 0, 1, 0]\n",
            "input: [1, 0, 0, 1] --> output: [0, 1, 1, 1]\n",
            "input: [1, 1, 0, 1] --> output: [0, 0, 1, 1]\n",
            "input: [1, 0, 1, 1] --> output: [0, 1, 0, 1]\n",
            "input: [1, 1, 1, 1] --> output: [0, 0, 0, 1]\n"
          ]
        }
      ]
    },
    {
      "cell_type": "markdown",
      "source": [
        "# Q2"
      ],
      "metadata": {
        "id": "yEqyK0i277Cd"
      }
    },
    {
      "cell_type": "code",
      "source": [
        "import keras\n",
        "from keras.datasets import mnist\n",
        "from keras.models import Sequential\n",
        "from keras.layers import Dense\n",
        "from keras.optimizers import Adam\n",
        "from keras.losses import CategoricalCrossentropy\n",
        "from keras.utils import to_categorical\n",
        "import numpy as np\n",
        "import tensorflow as tf\n",
        "import matplotlib.pyplot as plt\n",
        "import keras.backend as K\n",
        "from keras.losses import categorical_crossentropy"
      ],
      "metadata": {
        "id": "JzNouVO1CNv3"
      },
      "execution_count": 3,
      "outputs": []
    },
    {
      "cell_type": "markdown",
      "source": [
        "## Q2-1 Load and check dataset\n"
      ],
      "metadata": {
        "id": "Ekp74Tm1CcvS"
      }
    },
    {
      "cell_type": "code",
      "source": [
        "(train_images, train_labels), (test_images, test_labels) = mnist.load_data()"
      ],
      "metadata": {
        "id": "tecZzrB-CbZ5",
        "colab": {
          "base_uri": "https://localhost:8080/"
        },
        "outputId": "75863d6c-655d-4110-d1e2-9024475ed9e8"
      },
      "execution_count": 4,
      "outputs": [
        {
          "output_type": "stream",
          "name": "stdout",
          "text": [
            "Downloading data from https://storage.googleapis.com/tensorflow/tf-keras-datasets/mnist.npz\n",
            "11490434/11490434 [==============================] - 0s 0us/step\n"
          ]
        }
      ]
    },
    {
      "cell_type": "code",
      "source": [
        "print(f\"number of training samples: {train_images.shape[0]}\")\n",
        "print(f\"size of each training image: {train_images.shape[1:]}\")\n",
        "print(f\"number of test samples: {test_images.shape[0]}\")\n",
        "print(f\"size of each test image: {test_images.shape[1:]}\")"
      ],
      "metadata": {
        "colab": {
          "base_uri": "https://localhost:8080/"
        },
        "id": "pnYj56gy78a2",
        "outputId": "01c1ecf6-56f4-4293-f0bb-6cd34b0568d5"
      },
      "execution_count": 5,
      "outputs": [
        {
          "output_type": "stream",
          "name": "stdout",
          "text": [
            "number of training samples: 60000\n",
            "size of each training image: (28, 28)\n",
            "number of test samples: 10000\n",
            "size of each test image: (28, 28)\n"
          ]
        }
      ]
    },
    {
      "cell_type": "code",
      "source": [
        "fig, axs = plt.subplots(2, 5, figsize=(15, 6))\n",
        "\n",
        "for i in range(10):\n",
        "    image = train_images[train_labels == i][0]\n",
        "    axs[i//5, i%5].imshow(image, cmap=plt.cm.binary)\n",
        "    axs[i//5, i%5].set_title(f\"Image of number {i}\")\n",
        "    axs[i//5, i%5].axis('off')\n",
        "\n",
        "plt.tight_layout()\n",
        "plt.show()\n"
      ],
      "metadata": {
        "colab": {
          "base_uri": "https://localhost:8080/",
          "height": 588
        },
        "id": "pv_vx5OBAAHf",
        "outputId": "9dfa0e7d-f114-4def-e2e9-91d874566776"
      },
      "execution_count": 6,
      "outputs": [
        {
          "output_type": "display_data",
          "data": {
            "text/plain": [
              "<Figure size 1500x600 with 10 Axes>"
            ],
            "image/png": "[encoded data removed]"
          },
          "metadata": {}
        }
      ]
    },
    {
      "cell_type": "code",
      "source": [
        "train_classes, counts = np.unique(train_labels, return_counts=True)\n",
        "train_classes"
      ],
      "metadata": {
        "colab": {
          "base_uri": "https://localhost:8080/"
        },
        "id": "JMpTd-KFtRY4",
        "outputId": "d111960b-8a15-4d38-8d79-26e1ae67f634"
      },
      "execution_count": 7,
      "outputs": [
        {
          "output_type": "execute_result",
          "data": {
            "text/plain": [
              "array([0, 1, 2, 3, 4, 5, 6, 7, 8, 9], dtype=uint8)"
            ]
          },
          "metadata": {},
          "execution_count": 7
        }
      ]
    },
    {
      "cell_type": "code",
      "source": [
        "test_classes, counts = np.unique(test_labels, return_counts=True)\n",
        "test_classes"
      ],
      "metadata": {
        "colab": {
          "base_uri": "https://localhost:8080/"
        },
        "id": "eKHWK51BtdoE",
        "outputId": "f8e14075-a2eb-4b71-baa4-87921e96d482"
      },
      "execution_count": 8,
      "outputs": [
        {
          "output_type": "execute_result",
          "data": {
            "text/plain": [
              "array([0, 1, 2, 3, 4, 5, 6, 7, 8, 9], dtype=uint8)"
            ]
          },
          "metadata": {},
          "execution_count": 8
        }
      ]
    },
    {
      "cell_type": "code",
      "source": [
        "train_class_distribution = np.bincount(train_labels)\n",
        "test_class_distribution = np.bincount(test_labels)\n",
        "\n",
        "plt.figure(figsize=(12, 6))\n",
        "plt.subplot(1, 2, 1)\n",
        "plt.bar(range(10), train_class_distribution)\n",
        "plt.title('data distribution in training dataset')\n",
        "plt.xlabel('class')\n",
        "plt.ylabel('number of Samples')\n",
        "\n",
        "plt.subplot(1, 2, 2)\n",
        "plt.bar(range(10), test_class_distribution)\n",
        "plt.title('data distribution in test dataset')\n",
        "plt.xlabel('class')\n",
        "plt.ylabel('number of samples')\n",
        "\n",
        "plt.tight_layout()\n",
        "plt.show()\n"
      ],
      "metadata": {
        "colab": {
          "base_uri": "https://localhost:8080/",
          "height": 607
        },
        "id": "_6ubcClc-JXh",
        "outputId": "8a5ef415-40b6-4a81-ed78-7c086677ec96"
      },
      "execution_count": 9,
      "outputs": [
        {
          "output_type": "display_data",
          "data": {
            "text/plain": [
              "<Figure size 1200x600 with 2 Axes>"
            ],
            "image/png": "[encoded data removed]"
          },
          "metadata": {}
        }
      ]
    },
    {
      "cell_type": "code",
      "source": [
        "if np.std(train_class_distribution) > 0.1 * np.mean(train_class_distribution) or np.std(test_class_distribution) > 0.1 * np.mean(test_class_distribution):\n",
        "    print(\"unbalance\")\n",
        "else:\n",
        "    print(\"balance\")"
      ],
      "metadata": {
        "colab": {
          "base_uri": "https://localhost:8080/"
        },
        "id": "1nEP3uIf_q0D",
        "outputId": "52131098-10bb-4dd5-bed3-60a2c7118cb5"
      },
      "execution_count": 10,
      "outputs": [
        {
          "output_type": "stream",
          "name": "stdout",
          "text": [
            "balance\n"
          ]
        }
      ]
    },
    {
      "cell_type": "markdown",
      "source": [
        "## Q2-2"
      ],
      "metadata": {
        "id": "MgkucX4CAXSY"
      }
    },
    {
      "cell_type": "code",
      "source": [
        "min_pixel_value = np.min(train_images)\n",
        "max_pixel_value = np.max(train_images)\n",
        "\n",
        "print('min pixel:', min_pixel_value)\n",
        "print('max pixel:', max_pixel_value)"
      ],
      "metadata": {
        "colab": {
          "base_uri": "https://localhost:8080/"
        },
        "id": "82FTNs9_RidP",
        "outputId": "0d3b62fd-f31d-4874-959b-883cc5f2ee51"
      },
      "execution_count": 11,
      "outputs": [
        {
          "output_type": "stream",
          "name": "stdout",
          "text": [
            "min pixel: 0\n",
            "max pixel: 255\n"
          ]
        }
      ]
    },
    {
      "cell_type": "code",
      "source": [
        "train_images = train_images / 255.0\n",
        "test_images = test_images / 255.0"
      ],
      "metadata": {
        "id": "mR3kMOelAYZZ"
      },
      "execution_count": 12,
      "outputs": []
    },
    {
      "cell_type": "markdown",
      "source": [
        "Min-max normalization is a technique often used to linearly scale every feature to the range [0,1]. In the context of the MNIST dataset, the pixel values range from 0 to 255. By dividing each pixel value by 255, we scale the data to the range [0,1].\n",
        "\n",
        "The reason for doing this is that gradient descent converges much faster with smaller values. When features are on similar scales, the level curves of the cost function are more spherical, and gradient descent can take a more direct path to the minimum. If features are on different scales, the level curves of the cost function are elongated, and gradient descent may oscillate back and forth and take a long time to find the minimum."
      ],
      "metadata": {
        "id": "2EqZh-ERAb9d"
      }
    },
    {
      "cell_type": "markdown",
      "source": [
        "## Q2-3"
      ],
      "metadata": {
        "id": "BX0lPpiPCr1k"
      }
    },
    {
      "cell_type": "code",
      "source": [
        "train_images = train_images.reshape((-1, 784))\n",
        "test_images = test_images.reshape((-1, 784))"
      ],
      "metadata": {
        "id": "PG4V-agvAcnj"
      },
      "execution_count": 13,
      "outputs": []
    },
    {
      "cell_type": "code",
      "source": [
        "train_labels = to_categorical(train_labels)\n",
        "test_labels = to_categorical(test_labels)"
      ],
      "metadata": {
        "id": "2wXN9x7rC1WE"
      },
      "execution_count": 14,
      "outputs": []
    },
    {
      "cell_type": "code",
      "source": [
        "model = Sequential([\n",
        "    Dense(512, input_dim=784, activation='relu'),\n",
        "    Dense(128, activation='relu'),\n",
        "    Dense(32, activation='relu'),\n",
        "    Dense(10, activation='softmax')\n",
        "])"
      ],
      "metadata": {
        "id": "4xLTCgysC86q"
      },
      "execution_count": 15,
      "outputs": []
    },
    {
      "cell_type": "code",
      "source": [
        "model.compile(optimizer=Adam(learning_rate=6e-5), loss=CategoricalCrossentropy(), metrics=['accuracy'])"
      ],
      "metadata": {
        "id": "9QCVri3BC_fZ"
      },
      "execution_count": 16,
      "outputs": []
    },
    {
      "cell_type": "code",
      "source": [
        "model.fit(train_images, train_labels, epochs=25)"
      ],
      "metadata": {
        "colab": {
          "base_uri": "https://localhost:8080/"
        },
        "id": "yCJH6iNcDCZo",
        "outputId": "ceecb354-9da9-49bc-bcce-fc54328c6bd9"
      },
      "execution_count": 17,
      "outputs": [
        {
          "output_type": "stream",
          "name": "stdout",
          "text": [
            "Epoch 1/25\n",
            "1875/1875 [==============================] - 25s 12ms/step - loss: 0.5241 - accuracy: 0.8644\n",
            "Epoch 2/25\n",
            "1875/1875 [==============================] - 16s 9ms/step - loss: 0.2049 - accuracy: 0.9428\n",
            "Epoch 3/25\n",
            "1875/1875 [==============================] - 16s 9ms/step - loss: 0.1540 - accuracy: 0.9559\n",
            "Epoch 4/25\n",
            "1875/1875 [==============================] - 18s 9ms/step - loss: 0.1240 - accuracy: 0.9649\n",
            "Epoch 5/25\n",
            "1875/1875 [==============================] - 16s 9ms/step - loss: 0.1030 - accuracy: 0.9710\n",
            "Epoch 6/25\n",
            "1875/1875 [==============================] - 22s 12ms/step - loss: 0.0867 - accuracy: 0.9753\n",
            "Epoch 7/25\n",
            "1875/1875 [==============================] - 16s 9ms/step - loss: 0.0738 - accuracy: 0.9795\n",
            "Epoch 8/25\n",
            "1875/1875 [==============================] - 16s 9ms/step - loss: 0.0634 - accuracy: 0.9819\n",
            "Epoch 9/25\n",
            "1875/1875 [==============================] - 16s 9ms/step - loss: 0.0547 - accuracy: 0.9845\n",
            "Epoch 10/25\n",
            "1875/1875 [==============================] - 17s 9ms/step - loss: 0.0475 - accuracy: 0.9868\n",
            "Epoch 11/25\n",
            "1875/1875 [==============================] - 16s 8ms/step - loss: 0.0412 - accuracy: 0.9886\n",
            "Epoch 12/25\n",
            "1875/1875 [==============================] - 20s 11ms/step - loss: 0.0360 - accuracy: 0.9904\n",
            "Epoch 13/25\n",
            "1875/1875 [==============================] - 18s 10ms/step - loss: 0.0308 - accuracy: 0.9919\n",
            "Epoch 14/25\n",
            "1875/1875 [==============================] - 16s 9ms/step - loss: 0.0266 - accuracy: 0.9932\n",
            "Epoch 15/25\n",
            "1875/1875 [==============================] - 16s 8ms/step - loss: 0.0231 - accuracy: 0.9944\n",
            "Epoch 16/25\n",
            "1875/1875 [==============================] - 17s 9ms/step - loss: 0.0201 - accuracy: 0.9952\n",
            "Epoch 17/25\n",
            "1875/1875 [==============================] - 16s 9ms/step - loss: 0.0172 - accuracy: 0.9962\n",
            "Epoch 18/25\n",
            "1875/1875 [==============================] - 16s 9ms/step - loss: 0.0149 - accuracy: 0.9969\n",
            "Epoch 19/25\n",
            "1875/1875 [==============================] - 17s 9ms/step - loss: 0.0127 - accuracy: 0.9974\n",
            "Epoch 20/25\n",
            "1875/1875 [==============================] - 17s 9ms/step - loss: 0.0107 - accuracy: 0.9978\n",
            "Epoch 21/25\n",
            "1875/1875 [==============================] - 16s 9ms/step - loss: 0.0091 - accuracy: 0.9984\n",
            "Epoch 22/25\n",
            "1875/1875 [==============================] - 16s 8ms/step - loss: 0.0080 - accuracy: 0.9987\n",
            "Epoch 23/25\n",
            "1875/1875 [==============================] - 17s 9ms/step - loss: 0.0065 - accuracy: 0.9991\n",
            "Epoch 24/25\n",
            "1875/1875 [==============================] - 16s 9ms/step - loss: 0.0061 - accuracy: 0.9990\n",
            "Epoch 25/25\n",
            "1875/1875 [==============================] - 17s 9ms/step - loss: 0.0044 - accuracy: 0.9994\n"
          ]
        },
        {
          "output_type": "execute_result",
          "data": {
            "text/plain": [
              "<keras.src.callbacks.History at 0x7a3a017c9c00>"
            ]
          },
          "metadata": {},
          "execution_count": 17
        }
      ]
    },
    {
      "cell_type": "code",
      "source": [
        "loss, accuracy = model.evaluate(test_images, test_labels)\n",
        "print(f\"loss: {loss}\")\n",
        "print(f\"accuracy: {accuracy}\")"
      ],
      "metadata": {
        "colab": {
          "base_uri": "https://localhost:8080/"
        },
        "id": "cOkpxYBDJ16Q",
        "outputId": "f9ade1ba-2755-48f0-9581-e4933fe6ed4f"
      },
      "execution_count": 18,
      "outputs": [
        {
          "output_type": "stream",
          "name": "stdout",
          "text": [
            "313/313 [==============================] - 2s 4ms/step - loss: 0.0752 - accuracy: 0.9804\n",
            "loss: 0.07522798329591751\n",
            "accuracy: 0.980400025844574\n"
          ]
        }
      ]
    },
    {
      "cell_type": "code",
      "source": [
        "model.save('model.h5')"
      ],
      "metadata": {
        "colab": {
          "base_uri": "https://localhost:8080/"
        },
        "id": "4hH2eDLsPHjs",
        "outputId": "b5c928c1-457a-4a22-c9e2-697272c039e4"
      },
      "execution_count": 19,
      "outputs": [
        {
          "output_type": "stream",
          "name": "stderr",
          "text": [
            "/usr/local/lib/python3.10/dist-packages/keras/src/engine/training.py:3103: UserWarning: You are saving your model as an HDF5 file via `model.save()`. This file format is considered legacy. We recommend using instead the native Keras format, e.g. `model.save('my_model.keras')`.\n",
            "  saving_api.save_model(\n"
          ]
        }
      ]
    },
    {
      "cell_type": "markdown",
      "source": [
        "The input size of 784 is chosen because the images in the MNIST dataset are 28x28 pixels. When these images are flattened into a 1D array (which is a common preprocessing step for feeding image data into a fully connected neural network), the resulting array has a length of 28*28 = 784. Therefore, the input layer of the network must have the same number of nodes to match this input size.\n",
        "\n",
        "\n"
      ],
      "metadata": {
        "id": "WlrGKL5nKa9R"
      }
    },
    {
      "cell_type": "markdown",
      "source": [
        "The activation function in the last layer of a neural network is often different because it is tailored to the specific type of output that the model is designed to predict1. In the case of your model, the last layer uses the softmax activation function because it’s a multi-class classification problem. The softmax function outputs a vector that represents the probability distributions of a list of potential outcomes. It’s a more generalized logistic activation function that’s used for multi-class classification2.\n",
        "\n",
        "As for logits, they are the raw, non-normalized output values that a classification model generates, which are then passed to a normalization function like softmax3. If the model is solving a binary classification problem, these logits can be understood as the log-odds, and they can be converted to probabilities using the sigmoid function4. In the context of deep learning, logits have a significant role in improving the numerical stability of the learning process. When combined with softmax, the logit values can be interpreted as unnormalized log probabilities3."
      ],
      "metadata": {
        "id": "0YLS76jAKr7n"
      }
    },
    {
      "cell_type": "markdown",
      "source": [
        "## Q2-4- FGSM"
      ],
      "metadata": {
        "id": "V0uzSol4PXM7"
      }
    },
    {
      "cell_type": "code",
      "source": [
        "def fgsm(model, x, y, epsilon):\n",
        "    x_tensor_format = tf.convert_to_tensor(x, dtype=tf.float32)\n",
        "\n",
        "    with tf.GradientTape() as tape:\n",
        "        tape.watch(x_tensor_format)\n",
        "        predicted_result = model(x_tensor_format)\n",
        "        loss = tf.keras.losses.categorical_crossentropy(y, predicted_result)\n",
        "\n",
        "    gradients = tape.gradient(loss, x_tensor_format)\n",
        "    sing_of_grad = tf.sign(gradients)\n",
        "    delta = epsilon * sing_of_grad\n",
        "\n",
        "    return delta"
      ],
      "metadata": {
        "id": "H_vppzxn4WRc"
      },
      "execution_count": 20,
      "outputs": []
    },
    {
      "cell_type": "code",
      "source": [
        "delta = fgsm(model, train_images, train_labels, 0.1)"
      ],
      "metadata": {
        "id": "-bsMVop_3EvH"
      },
      "execution_count": 37,
      "outputs": []
    },
    {
      "cell_type": "code",
      "source": [
        "noise = delta[500].numpy()\n",
        "noise = noise.reshape((28, 28))\n",
        "plt.imshow(noise, cmap=plt.cm.binary)\n",
        "plt.show()"
      ],
      "metadata": {
        "colab": {
          "base_uri": "https://localhost:8080/",
          "height": 430
        },
        "id": "3OZxACPwsQI3",
        "outputId": "971c07d2-ebe6-431d-9684-0bed6ee0be1a"
      },
      "execution_count": 22,
      "outputs": [
        {
          "output_type": "display_data",
          "data": {
            "text/plain": [
              "<Figure size 640x480 with 1 Axes>"
            ],
            "image/png": "[encoded data removed]"
          },
          "metadata": {}
        }
      ]
    },
    {
      "cell_type": "code",
      "source": [
        "good_sample_img = train_images[500]\n",
        "good_sample_img = good_sample_img.reshape((28, 28))\n",
        "plt.imshow(good_sample_img, cmap=plt.cm.binary)\n",
        "plt.show()"
      ],
      "metadata": {
        "colab": {
          "base_uri": "https://localhost:8080/",
          "height": 430
        },
        "id": "p3ct7lskxPiN",
        "outputId": "ebb2bd0c-80f9-4cde-ee8a-7d0e52d969e3"
      },
      "execution_count": 23,
      "outputs": [
        {
          "output_type": "display_data",
          "data": {
            "text/plain": [
              "<Figure size 640x480 with 1 Axes>"
            ],
            "image/png": "[encoded data removed]"
          },
          "metadata": {}
        }
      ]
    },
    {
      "cell_type": "code",
      "source": [
        "bad_train_images = train_images + delta\n",
        "predict_attacked_train = model.predict(bad_train_images)"
      ],
      "metadata": {
        "colab": {
          "base_uri": "https://localhost:8080/"
        },
        "id": "Bkg565L5sUK5",
        "outputId": "6e6bc2b3-fa0b-4e5c-9172-73d4b91106aa"
      },
      "execution_count": 38,
      "outputs": [
        {
          "output_type": "stream",
          "name": "stdout",
          "text": [
            "1875/1875 [==============================] - 11s 6ms/step\n"
          ]
        }
      ]
    },
    {
      "cell_type": "code",
      "source": [
        "noisy_sample_img = bad_train_images[500].numpy()\n",
        "noisy_sample_img = noisy_sample_img.reshape((28, 28))\n",
        "plt.imshow(noisy_sample_img, cmap=plt.cm.binary)\n",
        "plt.show()"
      ],
      "metadata": {
        "colab": {
          "base_uri": "https://localhost:8080/",
          "height": 430
        },
        "id": "MY4XE4BOw08g",
        "outputId": "1e9c0d8a-7051-46a8-84aa-24c83e0bf06d"
      },
      "execution_count": 25,
      "outputs": [
        {
          "output_type": "display_data",
          "data": {
            "text/plain": [
              "<Figure size 640x480 with 1 Axes>"
            ],
            "image/png": "[encoded data removed]"
          },
          "metadata": {}
        }
      ]
    },
    {
      "cell_type": "code",
      "source": [
        "sample_label = np.argmax(train_labels[500])\n",
        "print(f\"label: {sample_label}\")\n",
        "predictions_class = np.argmax(predict_attacked_train[500])\n",
        "print(f\"predict: {predictions_class}\")"
      ],
      "metadata": {
        "colab": {
          "base_uri": "https://localhost:8080/"
        },
        "id": "YJlXvmXxocOu",
        "outputId": "f557f9cf-68de-44cd-8ef4-2a6fc770a5da"
      },
      "execution_count": 26,
      "outputs": [
        {
          "output_type": "stream",
          "name": "stdout",
          "text": [
            "label: 3\n",
            "predict: 2\n"
          ]
        }
      ]
    },
    {
      "cell_type": "code",
      "source": [
        "loss, accuracy = model.evaluate(bad_train_images, train_labels)\n",
        "\n",
        "print('loss:', loss)\n",
        "print('accuracy:', accuracy)"
      ],
      "metadata": {
        "colab": {
          "base_uri": "https://localhost:8080/"
        },
        "id": "jFcP1_Ow5sJH",
        "outputId": "618e6812-153c-409b-ef6d-c6881c7cc6f9"
      },
      "execution_count": 27,
      "outputs": [
        {
          "output_type": "stream",
          "name": "stdout",
          "text": [
            "1875/1875 [==============================] - 6s 3ms/step - loss: 25.8158 - accuracy: 0.0386\n",
            "loss: 25.815752029418945\n",
            "accuracy: 0.0385500006377697\n"
          ]
        }
      ]
    },
    {
      "cell_type": "code",
      "source": [
        "test_delta = fgsm(model, test_images, test_labels, 0.1)\n",
        "test_images_adv = test_images + test_delta\n",
        "predict_attacked_test = model.predict(test_images_adv)"
      ],
      "metadata": {
        "colab": {
          "base_uri": "https://localhost:8080/"
        },
        "id": "GQXpYpb52K7D",
        "outputId": "8b067d2d-a00f-4ece-cdb9-f024c09d5431"
      },
      "execution_count": 28,
      "outputs": [
        {
          "output_type": "stream",
          "name": "stdout",
          "text": [
            "313/313 [==============================] - 1s 4ms/step\n"
          ]
        }
      ]
    },
    {
      "cell_type": "code",
      "source": [
        "loss, accuracy = model.evaluate(test_images_adv, test_labels)\n",
        "\n",
        "print('loss:', loss)\n",
        "print('accuracy:', accuracy)"
      ],
      "metadata": {
        "colab": {
          "base_uri": "https://localhost:8080/"
        },
        "id": "riDBcti82zWK",
        "outputId": "a7457a64-ac22-459f-9200-b07581479045"
      },
      "execution_count": 29,
      "outputs": [
        {
          "output_type": "stream",
          "name": "stdout",
          "text": [
            "313/313 [==============================] - 1s 3ms/step - loss: 26.0809 - accuracy: 0.0388\n",
            "loss: 26.080890655517578\n",
            "accuracy: 0.03880000114440918\n"
          ]
        }
      ]
    },
    {
      "cell_type": "code",
      "source": [
        "train_label_class = np.argmax(train_labels, axis=1)\n",
        "classes, counts = np.unique(train_label_class, return_counts=True)\n",
        "\n",
        "examples = []\n",
        "\n",
        "for c in classes:\n",
        "    andis = np.where(train_label_class == c)[0]\n",
        "    example = bad_train_images[andis[0]]\n",
        "    examples.append(example)\n",
        "\n",
        "examples = np.array(examples)\n",
        "predictions = model.predict(examples)\n",
        "predictions_class = np.argmax(predictions, axis=1)\n",
        "\n",
        "fig, axs = plt.subplots(2, 5, figsize=(15, 6))\n",
        "\n",
        "for i in range(len(examples)):\n",
        "    axs[i//5, i%5].imshow(examples[i].reshape((28, 28)), cmap=plt.cm.binary)\n",
        "    axs[i//5, i%5].set_title(f\"True: {classes[i]}, Pred: {predictions_class[i]}\")\n",
        "    axs[i//5, i%5].axis('off')\n",
        "\n",
        "plt.tight_layout()\n",
        "plt.show()"
      ],
      "metadata": {
        "colab": {
          "base_uri": "https://localhost:8080/",
          "height": 605
        },
        "id": "_kZ-Z8FjxqO3",
        "outputId": "881fc836-a054-43bf-ec62-42f27831eeda"
      },
      "execution_count": 39,
      "outputs": [
        {
          "output_type": "stream",
          "name": "stdout",
          "text": [
            "1/1 [==============================] - 0s 32ms/step\n"
          ]
        },
        {
          "output_type": "display_data",
          "data": {
            "text/plain": [
              "<Figure size 1500x600 with 10 Axes>"
            ],
            "image/png": "[encoded data removed]"
          },
          "metadata": {}
        }
      ]
    },
    {
      "cell_type": "markdown",
      "source": [
        "## Q2-4- PGD"
      ],
      "metadata": {
        "id": "c6LaExW8LsQi"
      }
    },
    {
      "cell_type": "code",
      "source": [
        "def pdg(model, images, labels, epsilon, alpha, num_iter):\n",
        "    attack_mask = tf.zeros_like(images)\n",
        "\n",
        "    for i in range(num_iter):\n",
        "        with tf.GradientTape() as tape:\n",
        "            tape.watch(attack_mask)\n",
        "            bad_sample = images + attack_mask\n",
        "            predictions = model(bad_sample)\n",
        "            loss = tf.keras.losses.categorical_crossentropy(labels, predictions)\n",
        "\n",
        "        gradients = tape.gradient(loss, attack_mask)\n",
        "        sign_of_gradient = tf.sign(gradients)\n",
        "        attack_mask += alpha * sign_of_gradient\n",
        "        attack_mask = tf.clip_by_value(attack_mask, -epsilon, epsilon)\n",
        "\n",
        "    return attack_mask"
      ],
      "metadata": {
        "id": "kMaDmZK0IoAL"
      },
      "execution_count": 40,
      "outputs": []
    },
    {
      "cell_type": "code",
      "source": [
        "delta = pdg(model, train_images, train_labels, epsilon=0.1, alpha=0.01, num_iter=40)\n",
        "bad_train_images = train_images + delta\n",
        "predict_attacked_train = model.predict(bad_train_images)"
      ],
      "metadata": {
        "colab": {
          "base_uri": "https://localhost:8080/"
        },
        "id": "iZ_Wr7KIJXxm",
        "outputId": "5aee8678-c3f9-4093-ec29-d050cbe59813"
      },
      "execution_count": 41,
      "outputs": [
        {
          "output_type": "stream",
          "name": "stdout",
          "text": [
            "1875/1875 [==============================] - 7s 4ms/step\n"
          ]
        }
      ]
    },
    {
      "cell_type": "code",
      "source": [
        "loss, accuracy = model.evaluate(bad_train_images, train_labels)\n",
        "\n",
        "print('loss:', loss)\n",
        "print('accuracy:', accuracy)"
      ],
      "metadata": {
        "colab": {
          "base_uri": "https://localhost:8080/"
        },
        "id": "S_EwPo4cLsKL",
        "outputId": "a963e05e-075e-427a-dc63-2b837b488c31"
      },
      "execution_count": 42,
      "outputs": [
        {
          "output_type": "stream",
          "name": "stdout",
          "text": [
            "1875/1875 [==============================] - 7s 4ms/step - loss: 36.9725 - accuracy: 1.8333e-04\n",
            "loss: 36.97246170043945\n",
            "accuracy: 0.000183333337190561\n"
          ]
        }
      ]
    },
    {
      "cell_type": "code",
      "source": [
        "delta = pdg(model, test_images, test_labels, epsilon=0.1, alpha=0.01, num_iter=40)\n",
        "bad_test_images = test_images + delta\n",
        "predict_attacked_test = model.predict(bad_test_images)"
      ],
      "metadata": {
        "colab": {
          "base_uri": "https://localhost:8080/"
        },
        "id": "OlzMluRNrDzm",
        "outputId": "aa3b342c-e093-4295-bad9-5c5e4cba2313"
      },
      "execution_count": 43,
      "outputs": [
        {
          "output_type": "stream",
          "name": "stdout",
          "text": [
            "313/313 [==============================] - 1s 3ms/step\n"
          ]
        }
      ]
    },
    {
      "cell_type": "code",
      "source": [
        "loss, accuracy = model.evaluate(bad_test_images, test_labels)\n",
        "\n",
        "print('loss:', loss)\n",
        "print('accuracy:', accuracy)"
      ],
      "metadata": {
        "colab": {
          "base_uri": "https://localhost:8080/"
        },
        "id": "j9tcyRHJrvXA",
        "outputId": "c7237c80-0ca6-41be-b4f0-8d4f7c6b0a62"
      },
      "execution_count": 44,
      "outputs": [
        {
          "output_type": "stream",
          "name": "stdout",
          "text": [
            "313/313 [==============================] - 1s 3ms/step - loss: 37.2519 - accuracy: 1.0000e-04\n",
            "loss: 37.25192642211914\n",
            "accuracy: 9.999999747378752e-05\n"
          ]
        }
      ]
    },
    {
      "cell_type": "code",
      "source": [
        "train_label_class = np.argmax(train_labels, axis=1)\n",
        "classes, counts = np.unique(train_label_class, return_counts=True)\n",
        "\n",
        "examples = []\n",
        "\n",
        "for c in classes:\n",
        "    andis = np.where(train_label_class == c)[0]\n",
        "    example = bad_train_images[andis[0]]\n",
        "    examples.append(example)\n",
        "\n",
        "examples = np.array(examples)\n",
        "predictions = model.predict(examples)\n",
        "predictions_class = np.argmax(predictions, axis=1)\n",
        "\n",
        "fig, axs = plt.subplots(2, 5, figsize=(15, 6))\n",
        "\n",
        "for i in range(len(examples)):\n",
        "    axs[i//5, i%5].imshow(examples[i].reshape((28, 28)), cmap=plt.cm.binary)\n",
        "    axs[i//5, i%5].set_title(f\"True: {classes[i]}, Pred: {predictions_class[i]}\")\n",
        "    axs[i//5, i%5].axis('off')\n",
        "\n",
        "plt.tight_layout()\n",
        "plt.show()\n"
      ],
      "metadata": {
        "colab": {
          "base_uri": "https://localhost:8080/",
          "height": 605
        },
        "id": "BnatiM_BOjyM",
        "outputId": "69dedfd7-8628-4a89-9b5e-cec477b9cc1f"
      },
      "execution_count": 45,
      "outputs": [
        {
          "output_type": "stream",
          "name": "stdout",
          "text": [
            "1/1 [==============================] - 0s 22ms/step\n"
          ]
        },
        {
          "output_type": "display_data",
          "data": {
            "text/plain": [
              "<Figure size 1500x600 with 10 Axes>"
            ],
            "image/png": "[encoded data removed]"
          },
          "metadata": {}
        }
      ]
    }
  ]
}